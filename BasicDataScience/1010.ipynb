{
 "cells": [
  {
   "cell_type": "markdown",
   "id": "ad3de25e",
   "metadata": {},
   "source": [
    "query()\n",
    "\n",
    "df[]\n",
    "\n",
    "df.loc[], df.iloc[]\n",
    "\n",
    "sort_values()\n",
    "\n",
    "assign()\n",
    "\n",
    "groupby()\n",
    "\n",
    "agg()\n",
    "\n",
    "merge()\n",
    "\n",
    "concat()"
   ]
  },
  {
   "cell_type": "code",
   "execution_count": 1,
   "id": "926a16ef",
   "metadata": {},
   "outputs": [],
   "source": [
    "import pandas as pd"
   ]
  },
  {
   "cell_type": "code",
   "execution_count": null,
   "id": "9bd0fc71",
   "metadata": {},
   "outputs": [
    {
     "name": "stdout",
     "output_type": "stream",
     "text": [
      "    id  nclass  math  english  science  total\n",
      "0    1       1    50       98       50    100\n",
      "1    2       1    60       97       60    120\n",
      "2    3       1    45       86       78    123\n",
      "3    4       1    30       98       58     88\n",
      "4    5       2    25       80       65     90\n",
      "5    6       2    50       89       98    148\n",
      "6    7       2    80       90       45    125\n",
      "7    8       2    90       78       25    115\n",
      "8    9       3    20       98       15     35\n",
      "9   10       3    50       98       45     95\n",
      "10  11       3    65       65       65    130\n",
      "11  12       3    45       85       32     77\n",
      "12  13       4    46       98       65    111\n",
      "13  14       4    48       87       12     60\n",
      "14  15       4    75       56       78    153\n",
      "15  16       4    58       98       65    123\n",
      "16  17       5    65       68       98    163\n",
      "17  18       5    80       78       90    170\n",
      "18  19       5    89       68       87    176\n",
      "19  20       5    78       83       58    136\n"
     ]
    }
   ],
   "source": [
    "exam = pd.read_csv('./datasets/exam.csv')\n",
    "new_exam = exam.assign(total = exam['math']+ exam['science'])\n",
    "new_exam_with_lambda = exam.assign(total = lambda x: (x['math']+x['science']))\n",
    "exam['total'] = exam['math'] + exam['science']\n",
    "print(new_exam) # 표준형\n",
    "print(new_exam_with_lambda) # 표준형 + lambda\n",
    "print(exam) # old함\n"
   ]
  },
  {
   "cell_type": "code",
   "execution_count": null,
   "id": "6d58e9ea",
   "metadata": {},
   "outputs": [],
   "source": []
  }
 ],
 "metadata": {
  "kernelspec": {
   "display_name": "gpu_env_basicData_notes",
   "language": "python",
   "name": "python3"
  },
  "language_info": {
   "codemirror_mode": {
    "name": "ipython",
    "version": 3
   },
   "file_extension": ".py",
   "mimetype": "text/x-python",
   "name": "python",
   "nbconvert_exporter": "python",
   "pygments_lexer": "ipython3",
   "version": "3.12.9"
  }
 },
 "nbformat": 4,
 "nbformat_minor": 5
}
