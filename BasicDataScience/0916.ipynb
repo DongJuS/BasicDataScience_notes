{
 "cells": [
  {
   "cell_type": "markdown",
   "id": "66424bbb",
   "metadata": {},
   "source": [
    "- 1차원은 Series\n",
    "    - Series는 속성?값이 하나 일 때  \n",
    "- 2차원은 pandas"
   ]
  },
  {
   "cell_type": "code",
   "execution_count": null,
   "id": "a6152712",
   "metadata": {},
   "outputs": [],
   "source": []
  }
 ],
 "metadata": {
  "language_info": {
   "name": "python"
  }
 },
 "nbformat": 4,
 "nbformat_minor": 5
}
