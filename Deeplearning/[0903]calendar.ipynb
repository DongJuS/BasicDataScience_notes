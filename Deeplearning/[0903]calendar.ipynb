{
 "cells": [
  {
   "cell_type": "code",
   "execution_count": 5,
   "id": "ab7e170e",
   "metadata": {},
   "outputs": [
    {
     "name": "stdout",
     "output_type": "stream",
     "text": [
      "     June 2018\n",
      "Mo Tu We Th Fr Sa Su\n",
      "             1  2  3\n",
      " 4  5  6  7  8  9 10\n",
      "11 12 13 14 15 16 17\n",
      "18 19 20 21 22 23 24\n",
      "25 26 27 28 29 30\n"
     ]
    }
   ],
   "source": [
    "import calendar\n",
    "calendar.prmonth(2018,6)\n"
   ]
  },
  {
   "cell_type": "code",
   "execution_count": null,
   "id": "2870fcba",
   "metadata": {},
   "outputs": [],
   "source": [
    "pip install matplotlib"
   ]
  },
  {
   "cell_type": "code",
   "execution_count": null,
   "id": "56c4da18",
   "metadata": {},
   "outputs": [],
   "source": [
    "import numpy as np\n",
    "import matplotlib.pyplot as plt\n",
    "\n",
    "X = np.linspace(-np.pi,np.pi, 256,endpoint=True)\n",
    "C,S = np.cos(X), np.sin(X)\n",
    "plt.plot(X,C)\n",
    "plt.plot(X,S)\n",
    "plt.show()"
   ]
  },
  {
   "cell_type": "markdown",
   "id": "371bd14f",
   "metadata": {},
   "source": [
    "numpy란\n",
    "Scikit-learn은 numpy와 별개의 라이브러리이다. 하지만, Scikit-learn에서 numpy를 자주 사용한다.\n",
    "그리고 numpy는 배열 형태로 처리하는 것임.\n",
    "비슷한 것으로는 pandas를 떠올릴 수 있음. 하지만 별개임.\n",
    "pandas의 경우에는 표 형태로 받는거라서 다름.\n",
    "pandas를 떠올린다면 Series라는게 있음.\n",
    "Series는 1차원 형태임. 그렇다면 배열이랑 비슷하다고 생각할 수 도 있겠다는 생각이 들긴하네.\n"
   ]
  },
  {
   "cell_type": "code",
   "execution_count": null,
   "id": "a5517bd2",
   "metadata": {},
   "outputs": [],
   "source": []
  }
 ],
 "metadata": {
  "kernelspec": {
   "display_name": "gpu_env_basicData_notes",
   "language": "python",
   "name": "python3"
  },
  "language_info": {
   "codemirror_mode": {
    "name": "ipython",
    "version": 3
   },
   "file_extension": ".py",
   "mimetype": "text/x-python",
   "name": "python",
   "nbconvert_exporter": "python",
   "pygments_lexer": "ipython3",
   "version": "3.12.9"
  }
 },
 "nbformat": 4,
 "nbformat_minor": 5
}
