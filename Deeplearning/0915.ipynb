{
 "cells": [
  {
   "cell_type": "markdown",
   "id": "37ed19c2",
   "metadata": {},
   "source": [
    "### B"
   ]
  },
  {
   "cell_type": "code",
   "execution_count": 2,
   "id": "39942a6a",
   "metadata": {},
   "outputs": [
    {
     "name": "stdout",
     "output_type": "stream",
     "text": [
      "float32\n",
      "(4898, 12)\n",
      "[[ 7.    0.27  0.36 ...  0.45  8.8   6.  ]\n",
      " [ 6.3   0.3   0.34 ...  0.49  9.5   6.  ]\n",
      " [ 8.1   0.28  0.4  ...  0.44 10.1   6.  ]\n",
      " ...\n",
      " [ 6.5   0.24  0.19 ...  0.46  9.4   6.  ]\n",
      " [ 5.5   0.29  0.3  ...  0.38 12.8   7.  ]\n",
      " [ 6.    0.21  0.38 ...  0.32 11.8   6.  ]]\n",
      "\n"
     ]
    }
   ],
   "source": [
    "import csv\n",
    "import os\n",
    "import numpy as np\n",
    "\n",
    "wine_path = os.path.join(\"datasets\", \"winequality-white.csv\")\n",
    "wineq_numpy = np.loadtxt(wine_path, dtype=np.float32, delimiter=\";\", skiprows=1)\n",
    "print(wineq_numpy.dtype)\n",
    "print(wineq_numpy.shape)\n",
    "print(wineq_numpy)\n",
    "print()\n",
    "\n"
   ]
  },
  {
   "cell_type": "code",
   "execution_count": null,
   "id": "4e959d1b",
   "metadata": {},
   "outputs": [
    {
     "name": "stdout",
     "output_type": "stream",
     "text": [
      "['fixed acidity', 'volatile acidity', 'citric acid', 'residual sugar', 'chlorides', 'free sulfur dioxide', 'total sulfur dioxide', 'density', 'pH', 'sulphates', 'alcohol', 'quality']\n",
      "\n",
      "################################################## 1\n"
     ]
    }
   ],
   "source": [
    "col_list = next(csv.reader(open(wine_path), delimiter=';'))\n",
    "print(col_list)\n",
    "print()\n",
    "\n",
    "print(\"#\" * 50, 1)\n"
   ]
  },
  {
   "cell_type": "code",
   "execution_count": null,
   "id": "13cc65d1",
   "metadata": {},
   "outputs": [],
   "source": [
    "import torch\n",
    "\n",
    "wineq = torch.from_numpy(wineq_numpy)\n",
    "print(wineq.dtype)\n",
    "print(wineq.shape)\n",
    "print()\n",
    "\n",
    "data = wineq[:, :-1]  # Selects all rows and all columns except the last\n",
    "print(data.dtype)\n",
    "print(data.shape)\n",
    "print(data)\n",
    "print()"
   ]
  },
  {
   "cell_type": "code",
   "execution_count": null,
   "id": "d9d577f8",
   "metadata": {},
   "outputs": [],
   "source": [
    "target = wineq[:, -1]  # Selects all rows and the last column\n",
    "print(target.dtype)\n",
    "print(target.shape)\n",
    "print(target)\n",
    "print()\n",
    "\n",
    "target = target.to(torch.int64)  # treat labels as an integer\n",
    "print(target.dtype)\n",
    "print(target.shape)\n",
    "print(target)\n",
    "print()\n",
    "\n",
    "print(\"#\" * 50, 2)"
   ]
  },
  {
   "cell_type": "code",
   "execution_count": null,
   "id": "0f021d21",
   "metadata": {},
   "outputs": [],
   "source": [
    "eye_matrix = torch.eye(10)\n",
    "# We use the 'target' tensor as indices to extract the corresponding rows from the identity matrix\n",
    "# It can generate the one-hot vectors for each element in the 'target' tensor\n",
    "onehot_target = eye_matrix[target]\n",
    "\n",
    "print(onehot_target.shape)  # >>> torch.Size([4898, 10])\n",
    "print(onehot_target[0])\n",
    "print(onehot_target[1])\n",
    "print(onehot_target[-2])\n",
    "print(onehot_target)\n",
    "\n",
    "print(\"#\" * 50, 3)\n",
    "\n",
    "data_mean = torch.mean(data, dim=0)\n",
    "data_var = torch.var(data, dim=0)\n",
    "data = (data - data_mean) / torch.sqrt(data_var)\n",
    "print(data)\n",
    "\n",
    "print(\"#\" * 50, 4)"
   ]
  },
  {
   "cell_type": "code",
   "execution_count": null,
   "id": "d093a6a0",
   "metadata": {},
   "outputs": [],
   "source": [
    "from sklearn.model_selection import train_test_split\n",
    "\n",
    "X_train, X_test, y_train, y_test = train_test_split(data, onehot_target, test_size=0.2)\n",
    "\n",
    "print(X_train.shape)\n",
    "print(y_train.shape)\n",
    "\n",
    "print(X_test.shape)\n",
    "print(y_test.shape)\n",
    "\n",
    "\n",
    "def get_wine_data():\n",
    "  wine_path = os.path.join(\"datasets\", \"winequality-white.csv\")\n",
    "  wineq_numpy = np.loadtxt(wine_path, dtype=np.float32, delimiter=\";\", skiprows=1)\n",
    "\n",
    "  wineq = torch.from_numpy(wineq_numpy)\n",
    "\n",
    "  data = wineq[:, :-1]  # Selects all rows and all columns except the last\n",
    "  target = wineq[:, -1].to(torch.int64)  # treat labels as an integer\n",
    "\n",
    "  eye_matrix = torch.eye(10)\n",
    "  onehot_target = eye_matrix[target]\n",
    "\n",
    "  data_mean = torch.mean(data, dim=0)\n",
    "  data_var = torch.var(data, dim=0)\n",
    "  data = (data - data_mean) / torch.sqrt(data_var)\n",
    "\n",
    "  X_train, X_valid, y_train, y_valid = train_test_split(data, onehot_target, test_size=0.2)\n",
    "\n",
    "  return X_train, X_valid, y_train, y_valid"
   ]
  },
  {
   "cell_type": "markdown",
   "id": "f0e945eb",
   "metadata": {},
   "source": [
    "### D"
   ]
  },
  {
   "cell_type": "code",
   "execution_count": null,
   "id": "2d4cb2db",
   "metadata": {},
   "outputs": [],
   "source": [
    "import os\n",
    "import numpy as np\n",
    "import torch\n",
    "\n",
    "torch.set_printoptions(edgeitems=2, threshold=50, linewidth=75)\n",
    "\n",
    "bikes_path = os.path.join(\"datasets\", \"hour-fixed.csv\")\n",
    "\n",
    "bikes_numpy = np.loadtxt(\n",
    "  fname=bikes_path, dtype=np.float32, delimiter=\",\", skiprows=1,\n",
    "  converters={\n",
    "    1: lambda x: float(x[8:10])  # 2011-01-07 --> 07 --> 7.0\n",
    "  }\n",
    ")"
   ]
  },
  {
   "cell_type": "code",
   "execution_count": null,
   "id": "d73bd635",
   "metadata": {},
   "outputs": [],
   "source": [
    "bikes = torch.from_numpy(bikes_numpy).to(torch.float)\n",
    "print(bikes.shape)\n",
    "\n",
    "daily_bikes = bikes.view(-1, 24, bikes.shape[1])\n",
    "print(daily_bikes.shape)  # >>> torch.Size([730, 24, 17])\n",
    "\n",
    "daily_bikes_data = daily_bikes[:, :, :-1]\n",
    "daily_bikes_target = daily_bikes[:, :, -1].unsqueeze(dim=-1)\n",
    "\n",
    "print(daily_bikes_data.shape)\n",
    "print(daily_bikes_target.shape)\n",
    "\n",
    "print(\"#\" * 50, 1)"
   ]
  },
  {
   "cell_type": "code",
   "execution_count": null,
   "id": "68588f0f",
   "metadata": {},
   "outputs": [],
   "source": [
    "first_day_data = daily_bikes_data[0]\n",
    "print(first_day_data.shape)\n",
    "\n",
    "# Whether situation: 1: clear, 2:mist, 3: light rain/snow, 4: heavy rain/snow\n",
    "print(first_day_data[:, 9])\n",
    "print(first_day_data[:, 9].shape, first_day_data[:, 9].dtype)\n",
    "eye_matrix = torch.eye(4)\n",
    "print(eye_matrix)\n",
    "\n",
    "weather_onehot = eye_matrix[first_day_data[:, 9].to(torch.int64) - 1]\n",
    "print(weather_onehot.shape)\n",
    "print(weather_onehot)\n",
    "\n",
    "first_day_data_torch = torch.cat(tensors=(first_day_data, weather_onehot), dim=1)\n",
    "print(first_day_data_torch.shape)\n",
    "print(first_day_data_torch)\n",
    "\n",
    "print(\"#\" * 50, 2)\n",
    "\n",
    "day_data_torch_list = []\n",
    "\n",
    "for daily_idx in range(daily_bikes_data.shape[0]):  # range(730)\n",
    "  day = daily_bikes_data[daily_idx]  # day.shape: [24, 16]\n",
    "  weather_onehot = eye_matrix[day[:, 9].to(torch.int64) - 1]\n",
    "  day_data_torch = torch.cat(tensors=(day, weather_onehot), dim=1)  # day_data_torch.shape: [24, 20]\n",
    "  day_data_torch_list.append(day_data_torch)\n",
    "\n",
    "print(len(day_data_torch_list))\n",
    "daily_bikes_data = torch.stack(day_data_torch_list, dim=0)\n",
    "print(daily_bikes_data.shape)\n",
    "\n",
    "print(\"#\" * 50, 3)\n",
    "\n",
    "print(daily_bikes_data[:, :, :9].shape, daily_bikes_data[:, :, 10:].shape)\n",
    "daily_bikes_data = torch.cat(\n",
    "  [daily_bikes_data[:, :, 1:9], daily_bikes_data[:, :, 10:]], dim=2\n",
    ") # Drop 'instant' and 'whethersit' columns\n",
    "print(daily_bikes_data.shape)\n",
    "\n",
    "temperatures = daily_bikes_data[:, :, 8]\n",
    "daily_bikes_data[:, :, 8] = (daily_bikes_data[:, :, 8] - torch.mean(temperatures)) / torch.std(temperatures)\n"
   ]
  }
 ],
 "metadata": {
  "kernelspec": {
   "display_name": "gpu_env_basicData_notes",
   "language": "python",
   "name": "python3"
  },
  "language_info": {
   "codemirror_mode": {
    "name": "ipython",
    "version": 3
   },
   "file_extension": ".py",
   "mimetype": "text/x-python",
   "name": "python",
   "nbconvert_exporter": "python",
   "pygments_lexer": "ipython3",
   "version": "3.12.9"
  }
 },
 "nbformat": 4,
 "nbformat_minor": 5
}
